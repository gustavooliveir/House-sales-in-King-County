{
 "cells": [
  {
   "cell_type": "code",
   "execution_count": 32,
   "metadata": {},
   "outputs": [],
   "source": [
    "import numpy as np\n",
    "import pandas as pd\n",
    "import sys\n",
    "import matplotlib.pyplot as plt\n",
    "from sklearn.linear_model import LinearRegression\n",
    "from sklearn.model_selection import train_test_split\n",
    "from sklearn.metrics import r2_score, mean_squared_error\n",
    "import seaborn as sns\n",
    "%matplotlib inline\n",
    "\n",
    "df = pd.read_csv('kc_house_data.csv')\n",
    "df.head()\n",
    "df['has_been_renovated'] = (df['yr_renovated'] !=0)*1\n"
   ]
  },
  {
   "cell_type": "code",
   "execution_count": 33,
   "metadata": {},
   "outputs": [],
   "source": [
    "df2 = df.query(\"lat > 47.61 and lat < 47.77 and long > -122.43 and long < -122.23\")"
   ]
  },
  {
   "cell_type": "code",
   "execution_count": 34,
   "metadata": {},
   "outputs": [],
   "source": [
    "\n",
    "df3 = df.query(\"lat < 47.61 and  long > -122.23\")"
   ]
  },
  {
   "cell_type": "code",
   "execution_count": null,
   "metadata": {},
   "outputs": [],
   "source": [
    "\n"
   ]
  },
  {
   "cell_type": "code",
   "execution_count": 35,
   "metadata": {},
   "outputs": [
    {
     "data": {
      "image/png": "[encoded data removed]",
      "text/plain": [
       "<Figure size 1080x360 with 2 Axes>"
      ]
     },
     "metadata": {
      "needs_background": "light"
     },
     "output_type": "display_data"
    }
   ],
   "source": [
    "plt.figure(figsize = [15, 5]);\n",
    "plt.subplot(1, 2, 1) # 1 row, 2 cols, subplot 1\n",
    "bins = np.arange(df3['lat'].min(), df3['lat'].max(), (df3['lat'].max() - df3['lat'].min())*100/df3.shape[0]  )\n",
    "plt.hist(df3['lat'], bins=bins);\n",
    "plt.title('Latitude');\n",
    "plt.subplot(1, 2, 2)\n",
    "bins = np.arange(df3['long'].min(), df3['long'].max(), (df3['long'].max() - df3['long'].min())*100/df3.shape[0]  )\n",
    "plt.hist(df3['long'], bins=bins);\n",
    "plt.title('Longitude');\n",
    "plt.savefig('LatLong1.png')"
   ]
  },
  {
   "cell_type": "markdown",
   "metadata": {},
   "source": [
    "Taking a look at the different aspects of the popular and unpopular region"
   ]
  },
  {
   "cell_type": "code",
   "execution_count": 41,
   "metadata": {},
   "outputs": [
    {
     "data": {
      "text/plain": [
       "Index(['id', 'date', 'price', 'bedrooms', 'bathrooms', 'sqft_living',\n",
       "       'sqft_lot', 'floors', 'waterfront', 'view', 'condition', 'grade',\n",
       "       'sqft_above', 'sqft_basement', 'yr_built', 'yr_renovated', 'zipcode',\n",
       "       'lat', 'long', 'sqft_living15', 'sqft_lot15', 'has_been_renovated'],\n",
       "      dtype='object')"
      ]
     },
     "execution_count": 41,
     "metadata": {},
     "output_type": "execute_result"
    }
   ],
   "source": [
    "df3.columns"
   ]
  },
  {
   "cell_type": "markdown",
   "metadata": {},
   "source": [
    "The method 'describe' will be very helpful here!"
   ]
  },
  {
   "cell_type": "code",
   "execution_count": 37,
   "metadata": {},
   "outputs": [
    {
     "data": {
      "text/plain": [
       "id                    4.561873e+09\n",
       "price                 5.060217e+05\n",
       "bedrooms              3.534722e+00\n",
       "bathrooms             2.292056e+00\n",
       "sqft_living           2.280789e+03\n",
       "sqft_lot              2.165944e+04\n",
       "floors                1.556122e+00\n",
       "waterfront            5.668934e-03\n",
       "view                  1.937358e-01\n",
       "condition             3.418509e+00\n",
       "grade                 7.840561e+00\n",
       "sqft_above            2.050809e+03\n",
       "sqft_basement         2.299800e+02\n",
       "yr_built              1.983784e+03\n",
       "yr_renovated          5.517602e+01\n",
       "zipcode               9.804197e+04\n",
       "lat                   4.745985e+01\n",
       "long                 -1.220929e+02\n",
       "sqft_living15         2.200838e+03\n",
       "sqft_lot15            1.719199e+04\n",
       "has_been_renovated    2.763605e-02\n",
       "Name: mean, dtype: float64"
      ]
     },
     "execution_count": 37,
     "metadata": {},
     "output_type": "execute_result"
    }
   ],
   "source": [
    "df3.describe().loc['mean']"
   ]
  },
  {
   "cell_type": "code",
   "execution_count": 38,
   "metadata": {},
   "outputs": [
    {
     "data": {
      "text/plain": [
       "id                    4.590032e+09\n",
       "price                 6.405516e+05\n",
       "bedrooms              3.208569e+00\n",
       "bathrooms             1.979796e+00\n",
       "sqft_living           1.887397e+03\n",
       "sqft_lot              6.183010e+03\n",
       "floors                1.542941e+00\n",
       "waterfront            4.868549e-03\n",
       "view                  2.556962e-01\n",
       "condition             3.478870e+00\n",
       "grade                 7.562610e+00\n",
       "sqft_above            1.526493e+03\n",
       "sqft_basement         3.609046e+02\n",
       "yr_built              1.954739e+03\n",
       "yr_renovated          1.267544e+02\n",
       "zipcode               9.811995e+04\n",
       "lat                   4.768770e+01\n",
       "long                 -1.223304e+02\n",
       "sqft_living15         1.763895e+03\n",
       "sqft_lot15            5.963177e+03\n",
       "has_been_renovated    6.348588e-02\n",
       "Name: mean, dtype: float64"
      ]
     },
     "execution_count": 38,
     "metadata": {},
     "output_type": "execute_result"
    }
   ],
   "source": [
    "df2.describe().loc['mean']"
   ]
  },
  {
   "cell_type": "code",
   "execution_count": 39,
   "metadata": {},
   "outputs": [
    {
     "data": {
      "text/plain": [
       "id                    0.993865\n",
       "price                 0.789978\n",
       "bedrooms              1.101651\n",
       "bathrooms             1.157724\n",
       "sqft_living           1.208431\n",
       "sqft_lot              3.503057\n",
       "floors                1.008543\n",
       "waterfront            1.164399\n",
       "view                  0.757680\n",
       "condition             0.982649\n",
       "grade                 1.036753\n",
       "sqft_above            1.343477\n",
       "sqft_basement         0.637232\n",
       "yr_built              1.014859\n",
       "yr_renovated          0.435299\n",
       "zipcode               0.999205\n",
       "lat                   0.995222\n",
       "long                  0.998059\n",
       "sqft_living15         1.247715\n",
       "sqft_lot15            2.883026\n",
       "has_been_renovated    0.435310\n",
       "Name: mean, dtype: float64"
      ]
     },
     "execution_count": 39,
     "metadata": {},
     "output_type": "execute_result"
    }
   ],
   "source": [
    "df3.describe().loc['mean']/df2.describe().loc['mean']"
   ]
  },
  {
   "cell_type": "code",
   "execution_count": 22,
   "metadata": {},
   "outputs": [
    {
     "data": {
      "text/plain": [
       "1.2659830358273199"
      ]
     },
     "execution_count": 22,
     "metadata": {},
     "output_type": "execute_result"
    }
   ],
   "source": [
    "1/0.7899"
   ]
  },
  {
   "cell_type": "code",
   "execution_count": 23,
   "metadata": {},
   "outputs": [
    {
     "data": {
      "text/plain": [
       "1.5698587127158556"
      ]
     },
     "execution_count": 23,
     "metadata": {},
     "output_type": "execute_result"
    }
   ],
   "source": [
    "1/0.637"
   ]
  },
  {
   "cell_type": "code",
   "execution_count": 40,
   "metadata": {},
   "outputs": [
    {
     "data": {
      "text/plain": [
       "2.2988505747126435"
      ]
     },
     "execution_count": 40,
     "metadata": {},
     "output_type": "execute_result"
    }
   ],
   "source": [
    "1/0.435"
   ]
  },
  {
   "cell_type": "code",
   "execution_count": null,
   "metadata": {},
   "outputs": [],
   "source": []
  }
 ],
 "metadata": {
  "kernelspec": {
   "display_name": "Python 3",
   "language": "python",
   "name": "python3"
  },
  "language_info": {
   "codemirror_mode": {
    "name": "ipython",
    "version": 3
   },
   "file_extension": ".py",
   "mimetype": "text/x-python",
   "name": "python",
   "nbconvert_exporter": "python",
   "pygments_lexer": "ipython3",
   "version": "3.7.4"
  }
 },
 "nbformat": 4,
 "nbformat_minor": 2
}
