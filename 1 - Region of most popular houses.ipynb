{
 "cells": [
  {
   "cell_type": "markdown",
   "metadata": {},
   "source": [
    "### 1 - Where is the region of the county that most sales of houses are done? What is the medium price of the houses of this region?"
   ]
  },
  {
   "cell_type": "markdown",
   "metadata": {},
   "source": [
    "To answer this first question, we need to take a look at the data first"
   ]
  },
  {
   "cell_type": "code",
   "execution_count": 16,
   "metadata": {},
   "outputs": [
    {
     "data": {
      "text/html": [
       "<div>\n",
       "<style scoped>\n",
       "    .dataframe tbody tr th:only-of-type {\n",
       "        vertical-align: middle;\n",
       "    }\n",
       "\n",
       "    .dataframe tbody tr th {\n",
       "        vertical-align: top;\n",
       "    }\n",
       "\n",
       "    .dataframe thead th {\n",
       "        text-align: right;\n",
       "    }\n",
       "</style>\n",
       "<table border=\"1\" class=\"dataframe\">\n",
       "  <thead>\n",
       "    <tr style=\"text-align: right;\">\n",
       "      <th></th>\n",
       "      <th>id</th>\n",
       "      <th>date</th>\n",
       "      <th>price</th>\n",
       "      <th>bedrooms</th>\n",
       "      <th>bathrooms</th>\n",
       "      <th>sqft_living</th>\n",
       "      <th>sqft_lot</th>\n",
       "      <th>floors</th>\n",
       "      <th>waterfront</th>\n",
       "      <th>view</th>\n",
       "      <th>...</th>\n",
       "      <th>grade</th>\n",
       "      <th>sqft_above</th>\n",
       "      <th>sqft_basement</th>\n",
       "      <th>yr_built</th>\n",
       "      <th>yr_renovated</th>\n",
       "      <th>zipcode</th>\n",
       "      <th>lat</th>\n",
       "      <th>long</th>\n",
       "      <th>sqft_living15</th>\n",
       "      <th>sqft_lot15</th>\n",
       "    </tr>\n",
       "  </thead>\n",
       "  <tbody>\n",
       "    <tr>\n",
       "      <td>0</td>\n",
       "      <td>7129300520</td>\n",
       "      <td>20141013T000000</td>\n",
       "      <td>221900.0</td>\n",
       "      <td>3</td>\n",
       "      <td>1.00</td>\n",
       "      <td>1180</td>\n",
       "      <td>5650</td>\n",
       "      <td>1.0</td>\n",
       "      <td>0</td>\n",
       "      <td>0</td>\n",
       "      <td>...</td>\n",
       "      <td>7</td>\n",
       "      <td>1180</td>\n",
       "      <td>0</td>\n",
       "      <td>1955</td>\n",
       "      <td>0</td>\n",
       "      <td>98178</td>\n",
       "      <td>47.5112</td>\n",
       "      <td>-122.257</td>\n",
       "      <td>1340</td>\n",
       "      <td>5650</td>\n",
       "    </tr>\n",
       "    <tr>\n",
       "      <td>1</td>\n",
       "      <td>6414100192</td>\n",
       "      <td>20141209T000000</td>\n",
       "      <td>538000.0</td>\n",
       "      <td>3</td>\n",
       "      <td>2.25</td>\n",
       "      <td>2570</td>\n",
       "      <td>7242</td>\n",
       "      <td>2.0</td>\n",
       "      <td>0</td>\n",
       "      <td>0</td>\n",
       "      <td>...</td>\n",
       "      <td>7</td>\n",
       "      <td>2170</td>\n",
       "      <td>400</td>\n",
       "      <td>1951</td>\n",
       "      <td>1991</td>\n",
       "      <td>98125</td>\n",
       "      <td>47.7210</td>\n",
       "      <td>-122.319</td>\n",
       "      <td>1690</td>\n",
       "      <td>7639</td>\n",
       "    </tr>\n",
       "    <tr>\n",
       "      <td>2</td>\n",
       "      <td>5631500400</td>\n",
       "      <td>20150225T000000</td>\n",
       "      <td>180000.0</td>\n",
       "      <td>2</td>\n",
       "      <td>1.00</td>\n",
       "      <td>770</td>\n",
       "      <td>10000</td>\n",
       "      <td>1.0</td>\n",
       "      <td>0</td>\n",
       "      <td>0</td>\n",
       "      <td>...</td>\n",
       "      <td>6</td>\n",
       "      <td>770</td>\n",
       "      <td>0</td>\n",
       "      <td>1933</td>\n",
       "      <td>0</td>\n",
       "      <td>98028</td>\n",
       "      <td>47.7379</td>\n",
       "      <td>-122.233</td>\n",
       "      <td>2720</td>\n",
       "      <td>8062</td>\n",
       "    </tr>\n",
       "    <tr>\n",
       "      <td>3</td>\n",
       "      <td>2487200875</td>\n",
       "      <td>20141209T000000</td>\n",
       "      <td>604000.0</td>\n",
       "      <td>4</td>\n",
       "      <td>3.00</td>\n",
       "      <td>1960</td>\n",
       "      <td>5000</td>\n",
       "      <td>1.0</td>\n",
       "      <td>0</td>\n",
       "      <td>0</td>\n",
       "      <td>...</td>\n",
       "      <td>7</td>\n",
       "      <td>1050</td>\n",
       "      <td>910</td>\n",
       "      <td>1965</td>\n",
       "      <td>0</td>\n",
       "      <td>98136</td>\n",
       "      <td>47.5208</td>\n",
       "      <td>-122.393</td>\n",
       "      <td>1360</td>\n",
       "      <td>5000</td>\n",
       "    </tr>\n",
       "    <tr>\n",
       "      <td>4</td>\n",
       "      <td>1954400510</td>\n",
       "      <td>20150218T000000</td>\n",
       "      <td>510000.0</td>\n",
       "      <td>3</td>\n",
       "      <td>2.00</td>\n",
       "      <td>1680</td>\n",
       "      <td>8080</td>\n",
       "      <td>1.0</td>\n",
       "      <td>0</td>\n",
       "      <td>0</td>\n",
       "      <td>...</td>\n",
       "      <td>8</td>\n",
       "      <td>1680</td>\n",
       "      <td>0</td>\n",
       "      <td>1987</td>\n",
       "      <td>0</td>\n",
       "      <td>98074</td>\n",
       "      <td>47.6168</td>\n",
       "      <td>-122.045</td>\n",
       "      <td>1800</td>\n",
       "      <td>7503</td>\n",
       "    </tr>\n",
       "  </tbody>\n",
       "</table>\n",
       "<p>5 rows × 21 columns</p>\n",
       "</div>"
      ],
      "text/plain": [
       "           id             date     price  bedrooms  bathrooms  sqft_living  \\\n",
       "0  7129300520  20141013T000000  221900.0         3       1.00         1180   \n",
       "1  6414100192  20141209T000000  538000.0         3       2.25         2570   \n",
       "2  5631500400  20150225T000000  180000.0         2       1.00          770   \n",
       "3  2487200875  20141209T000000  604000.0         4       3.00         1960   \n",
       "4  1954400510  20150218T000000  510000.0         3       2.00         1680   \n",
       "\n",
       "   sqft_lot  floors  waterfront  view  ...  grade  sqft_above  sqft_basement  \\\n",
       "0      5650     1.0           0     0  ...      7        1180              0   \n",
       "1      7242     2.0           0     0  ...      7        2170            400   \n",
       "2     10000     1.0           0     0  ...      6         770              0   \n",
       "3      5000     1.0           0     0  ...      7        1050            910   \n",
       "4      8080     1.0           0     0  ...      8        1680              0   \n",
       "\n",
       "   yr_built  yr_renovated  zipcode      lat     long  sqft_living15  \\\n",
       "0      1955             0    98178  47.5112 -122.257           1340   \n",
       "1      1951          1991    98125  47.7210 -122.319           1690   \n",
       "2      1933             0    98028  47.7379 -122.233           2720   \n",
       "3      1965             0    98136  47.5208 -122.393           1360   \n",
       "4      1987             0    98074  47.6168 -122.045           1800   \n",
       "\n",
       "   sqft_lot15  \n",
       "0        5650  \n",
       "1        7639  \n",
       "2        8062  \n",
       "3        5000  \n",
       "4        7503  \n",
       "\n",
       "[5 rows x 21 columns]"
      ]
     },
     "execution_count": 16,
     "metadata": {},
     "output_type": "execute_result"
    }
   ],
   "source": [
    "import numpy as np\n",
    "import pandas as pd\n",
    "import sys\n",
    "import matplotlib.pyplot as plt\n",
    "from sklearn.linear_model import LinearRegression\n",
    "from sklearn.model_selection import train_test_split\n",
    "from sklearn.metrics import r2_score, mean_squared_error\n",
    "import seaborn as sns\n",
    "%matplotlib inline\n",
    "\n",
    "df = pd.read_csv('kc_house_data.csv')\n",
    "df.head()"
   ]
  },
  {
   "cell_type": "markdown",
   "metadata": {},
   "source": [
    "We can see there is a cloumn giving us the latitude and longitude of the houses, let's plot an histogram to take a look at latitude first:"
   ]
  },
  {
   "cell_type": "code",
   "execution_count": 38,
   "metadata": {},
   "outputs": [
    {
     "data": {
      "image/png": "[encoded data removed]",
      "text/plain": [
       "<Figure size 432x288 with 1 Axes>"
      ]
     },
     "metadata": {
      "needs_background": "light"
     },
     "output_type": "display_data"
    }
   ],
   "source": [
    "plt.hist(df['lat']);\n",
    "plt.title('Latitude');\n",
    "plt.savefig('latitude1.png')"
   ]
  },
  {
   "cell_type": "markdown",
   "metadata": {},
   "source": [
    "Humm... the bins are too big and it may be hindering something about the data, let's make the bins smaller and see what happens to the histogram"
   ]
  },
  {
   "cell_type": "code",
   "execution_count": 42,
   "metadata": {},
   "outputs": [
    {
     "data": {
      "text/plain": [
       "15.542499999999926"
      ]
     },
     "execution_count": 42,
     "metadata": {},
     "output_type": "execute_result"
    },
    {
     "data": {
      "image/png": "[encoded data removed]",
      "text/plain": [
       "<Figure size 432x288 with 1 Axes>"
      ]
     },
     "metadata": {
      "needs_background": "light"
     },
     "output_type": "display_data"
    }
   ],
   "source": [
    "bins = np.arange(df['lat'].min(), df['lat'].max(), 0.04)\n",
    "nb = (df['lat'].max() - df['lat'].min())/0.04\n",
    "plt.hist(df['lat'], bins=bins);\n",
    "plt.title('Latitude');\n",
    "plt.savefig('latitude2.png')\n",
    "nb"
   ]
  },
  {
   "cell_type": "markdown",
   "metadata": {},
   "source": [
    "Humm.. let's make it even smaller..."
   ]
  },
  {
   "cell_type": "code",
   "execution_count": 43,
   "metadata": {},
   "outputs": [
    {
     "data": {
      "text/plain": [
       "77.71249999999962"
      ]
     },
     "execution_count": 43,
     "metadata": {},
     "output_type": "execute_result"
    },
    {
     "data": {
      "image/png": "[encoded data removed]",
      "text/plain": [
       "<Figure size 432x288 with 1 Axes>"
      ]
     },
     "metadata": {
      "needs_background": "light"
     },
     "output_type": "display_data"
    }
   ],
   "source": [
    "bins = np.arange(df['lat'].min(), df['lat'].max(), 0.008)\n",
    "plt.hist(df['lat'], bins=bins);\n",
    "plt.title('Latitude');\n",
    "plt.savefig('latitude3.png')\n",
    "nb = (df['lat'].max() - df['lat'].min())/0.008\n",
    "nb\n"
   ]
  },
  {
   "cell_type": "markdown",
   "metadata": {},
   "source": [
    "Now we see an interesting aspect of our data. It seems there are at least 3 different ranges where the data has an appearence similar to a normal distribution where the bigger two overlap, namely of ranges of:\n",
    "\n",
    "        1 -> 47.25 ~ 47.41\n",
    "        \n",
    "        2 -> 47.41 ~ 47.61\n",
    "        \n",
    "        3 -> 47.61 ~ 47.77\n",
    "        \n",
    "The right side of the skew of the 3rd range seems to have been cut off, that is probably due to it being in the border of the studied county and it seems it may be very close to another city since there is a slight rise by the end of the histogram."
   ]
  },
  {
   "cell_type": "markdown",
   "metadata": {},
   "source": [
    "Now, let's take a look at the longitude"
   ]
  },
  {
   "cell_type": "code",
   "execution_count": 44,
   "metadata": {},
   "outputs": [
    {
     "data": {
      "image/png": "[encoded data removed]",
      "text/plain": [
       "<Figure size 432x288 with 1 Axes>"
      ]
     },
     "metadata": {
      "needs_background": "light"
     },
     "output_type": "display_data"
    }
   ],
   "source": [
    "bins = np.arange(df['long'].min(), df['long'].max(), 0.006)\n",
    "plt.hist(df['long'], bins=bins);\n",
    "plt.title('Longitude');\n",
    "plt.savefig('longitude3.png')\n"
   ]
  },
  {
   "cell_type": "markdown",
   "metadata": {},
   "source": [
    "Similarly to the pattern we see in the Latitude data, we can see 3 main regions where the selling of houses is concentrated.\n",
    "\n",
    "Main ranges:\n",
    "\n",
    "\n",
    "        1 -> -122.43 ~ -122.23\n",
    "        \n",
    "        2 -> -122.23 ~ -122.08\n",
    "        \n",
    "        3 -> -122.08 ~ -121.95\n",
    "        \n",
    "But since the peek is higher in the latitude histogram (around 700 in latitude in contrast with the 550 of longitude), it seems the sales are more distributed longitudinally than latitudinally. Is it true? Well, it may be due to the fact that our bin size was arbitrarly chosen, let's make it even then:"
   ]
  },
  {
   "cell_type": "code",
   "execution_count": 46,
   "metadata": {},
   "outputs": [
    {
     "data": {
      "text/plain": [
       "216.13"
      ]
     },
     "execution_count": 46,
     "metadata": {},
     "output_type": "execute_result"
    },
    {
     "data": {
      "image/png": "[encoded data removed]",
      "text/plain": [
       "<Figure size 432x288 with 1 Axes>"
      ]
     },
     "metadata": {
      "needs_background": "light"
     },
     "output_type": "display_data"
    }
   ],
   "source": [
    "bins = np.arange(df['lat'].min(), df['lat'].max(), (df['lat'].max() - df['lat'].min())*100/df.shape[0]  )\n",
    "plt.hist(df['lat'], bins=bins);\n",
    "plt.title('Latitude');\n",
    "plt.savefig('Latitude4')\n",
    "df.shape[0]/100"
   ]
  },
  {
   "cell_type": "code",
   "execution_count": 47,
   "metadata": {},
   "outputs": [
    {
     "data": {
      "image/png": "[encoded data removed]",
      "text/plain": [
       "<Figure size 432x288 with 1 Axes>"
      ]
     },
     "metadata": {
      "needs_background": "light"
     },
     "output_type": "display_data"
    }
   ],
   "source": [
    "bins = np.arange(df['long'].min(), df['long'].max(), (df['long'].max() - df['long'].min())*100/df.shape[0]  )\n",
    "plt.hist(df['long'], bins=bins);\n",
    "plt.title('Longitude');\n",
    "plt.savefig('longitude4.png')"
   ]
  },
  {
   "cell_type": "code",
   "execution_count": 54,
   "metadata": {},
   "outputs": [
    {
     "data": {
      "image/png": "[encoded data removed]",
      "text/plain": [
       "<Figure size 1080x360 with 2 Axes>"
      ]
     },
     "metadata": {
      "needs_background": "light"
     },
     "output_type": "display_data"
    }
   ],
   "source": [
    "plt.figure(figsize = [15, 5]);\n",
    "plt.subplot(1, 2, 1) # 1 row, 2 cols, subplot 1\n",
    "bins = np.arange(df['lat'].min(), df['lat'].max(), (df['lat'].max() - df['lat'].min())*100/df.shape[0]  )\n",
    "plt.hist(df['lat'], bins=bins);\n",
    "plt.title('Latitude');\n",
    "plt.subplot(1, 2, 2)\n",
    "bins = np.arange(df['long'].min(), df['long'].max(), (df['long'].max() - df['long'].min())*100/df.shape[0]  )\n",
    "plt.hist(df['long'], bins=bins);\n",
    "plt.title('Longitude');\n",
    "plt.savefig('LatLong1.png')"
   ]
  },
  {
   "cell_type": "markdown",
   "metadata": {},
   "source": [
    "The bin size was made to be around 100 houses for both histograms. Now, we can clearly see that the opposite was true, the sales are more distributed latitudinally rather than longitudinally, which can say a lot about the positions of the main cities in the county. For instance, the main cities seem to be around the north and west of King County, more specifically, between latitudes of 47.61 ~ 47.77 and longitudes of -122.43 ~ -122.23."
   ]
  },
  {
   "cell_type": "markdown",
   "metadata": {},
   "source": [
    "To answer the mean price of this region, we just need to filter the data corresponding to this specific region."
   ]
  },
  {
   "cell_type": "code",
   "execution_count": 23,
   "metadata": {},
   "outputs": [],
   "source": [
    "df2 = df.query(\"lat > 47.61 and lat < 47.77 and long > -122.43 and long < -122.23\")"
   ]
  },
  {
   "cell_type": "code",
   "execution_count": 24,
   "metadata": {},
   "outputs": [
    {
     "data": {
      "text/plain": [
       "0.23758848840975338"
      ]
     },
     "execution_count": 24,
     "metadata": {},
     "output_type": "execute_result"
    }
   ],
   "source": [
    "df2.shape[0]/df.shape[0]"
   ]
  },
  {
   "cell_type": "code",
   "execution_count": 25,
   "metadata": {},
   "outputs": [
    {
     "data": {
      "text/plain": [
       "(640551.6079844206, 540088.1417665294)"
      ]
     },
     "execution_count": 25,
     "metadata": {},
     "output_type": "execute_result"
    }
   ],
   "source": [
    "df2.price.mean(), df.price.mean()"
   ]
  },
  {
   "cell_type": "code",
   "execution_count": 83,
   "metadata": {},
   "outputs": [
    {
     "data": {
      "text/plain": [
       "0.2776106972655346"
      ]
     },
     "execution_count": 83,
     "metadata": {},
     "output_type": "execute_result"
    }
   ],
   "source": [
    "6000/ df.shape[0]"
   ]
  },
  {
   "cell_type": "code",
   "execution_count": 79,
   "metadata": {},
   "outputs": [
    {
     "data": {
      "text/plain": [
       "554362.2197271773"
      ]
     },
     "execution_count": 79,
     "metadata": {},
     "output_type": "execute_result"
    }
   ],
   "source": [
    "df3 = df2.query(\"price < 1200000\")\n",
    "df3.price.mean()"
   ]
  },
  {
   "cell_type": "code",
   "execution_count": 66,
   "metadata": {},
   "outputs": [
    {
     "data": {
      "text/html": [
       "<div>\n",
       "<style scoped>\n",
       "    .dataframe tbody tr th:only-of-type {\n",
       "        vertical-align: middle;\n",
       "    }\n",
       "\n",
       "    .dataframe tbody tr th {\n",
       "        vertical-align: top;\n",
       "    }\n",
       "\n",
       "    .dataframe thead th {\n",
       "        text-align: right;\n",
       "    }\n",
       "</style>\n",
       "<table border=\"1\" class=\"dataframe\">\n",
       "  <thead>\n",
       "    <tr style=\"text-align: right;\">\n",
       "      <th></th>\n",
       "      <th>id</th>\n",
       "      <th>price</th>\n",
       "      <th>bedrooms</th>\n",
       "      <th>bathrooms</th>\n",
       "      <th>sqft_living</th>\n",
       "      <th>sqft_lot</th>\n",
       "      <th>floors</th>\n",
       "      <th>waterfront</th>\n",
       "      <th>view</th>\n",
       "      <th>condition</th>\n",
       "      <th>grade</th>\n",
       "      <th>sqft_above</th>\n",
       "      <th>sqft_basement</th>\n",
       "      <th>yr_built</th>\n",
       "      <th>yr_renovated</th>\n",
       "      <th>zipcode</th>\n",
       "      <th>lat</th>\n",
       "      <th>long</th>\n",
       "      <th>sqft_living15</th>\n",
       "      <th>sqft_lot15</th>\n",
       "    </tr>\n",
       "  </thead>\n",
       "  <tbody>\n",
       "    <tr>\n",
       "      <td>count</td>\n",
       "      <td>5.135000e+03</td>\n",
       "      <td>5.135000e+03</td>\n",
       "      <td>5135.000000</td>\n",
       "      <td>5135.000000</td>\n",
       "      <td>5135.000000</td>\n",
       "      <td>5135.000000</td>\n",
       "      <td>5135.000000</td>\n",
       "      <td>5135.000000</td>\n",
       "      <td>5135.000000</td>\n",
       "      <td>5135.000000</td>\n",
       "      <td>5135.000000</td>\n",
       "      <td>5135.000000</td>\n",
       "      <td>5135.000000</td>\n",
       "      <td>5135.000000</td>\n",
       "      <td>5135.000000</td>\n",
       "      <td>5135.000000</td>\n",
       "      <td>5135.000000</td>\n",
       "      <td>5135.000000</td>\n",
       "      <td>5135.000000</td>\n",
       "      <td>5135.000000</td>\n",
       "    </tr>\n",
       "    <tr>\n",
       "      <td>mean</td>\n",
       "      <td>4.590032e+09</td>\n",
       "      <td>6.405516e+05</td>\n",
       "      <td>3.208569</td>\n",
       "      <td>1.979796</td>\n",
       "      <td>1887.397468</td>\n",
       "      <td>6183.009932</td>\n",
       "      <td>1.542941</td>\n",
       "      <td>0.004869</td>\n",
       "      <td>0.255696</td>\n",
       "      <td>3.478870</td>\n",
       "      <td>7.562610</td>\n",
       "      <td>1526.492892</td>\n",
       "      <td>360.904576</td>\n",
       "      <td>1954.739435</td>\n",
       "      <td>126.754430</td>\n",
       "      <td>98119.952288</td>\n",
       "      <td>47.687703</td>\n",
       "      <td>-122.330386</td>\n",
       "      <td>1763.895424</td>\n",
       "      <td>5963.176826</td>\n",
       "    </tr>\n",
       "    <tr>\n",
       "      <td>std</td>\n",
       "      <td>2.784225e+09</td>\n",
       "      <td>4.115038e+05</td>\n",
       "      <td>1.072337</td>\n",
       "      <td>0.809871</td>\n",
       "      <td>864.701717</td>\n",
       "      <td>5421.044155</td>\n",
       "      <td>0.639832</td>\n",
       "      <td>0.069612</td>\n",
       "      <td>0.792602</td>\n",
       "      <td>0.704133</td>\n",
       "      <td>1.031414</td>\n",
       "      <td>677.683152</td>\n",
       "      <td>438.907497</td>\n",
       "      <td>33.060690</td>\n",
       "      <td>486.897028</td>\n",
       "      <td>34.790243</td>\n",
       "      <td>0.040191</td>\n",
       "      <td>0.042268</td>\n",
       "      <td>542.426047</td>\n",
       "      <td>4487.626811</td>\n",
       "    </tr>\n",
       "    <tr>\n",
       "      <td>min</td>\n",
       "      <td>9.000025e+06</td>\n",
       "      <td>1.250000e+05</td>\n",
       "      <td>0.000000</td>\n",
       "      <td>0.000000</td>\n",
       "      <td>370.000000</td>\n",
       "      <td>520.000000</td>\n",
       "      <td>1.000000</td>\n",
       "      <td>0.000000</td>\n",
       "      <td>0.000000</td>\n",
       "      <td>1.000000</td>\n",
       "      <td>5.000000</td>\n",
       "      <td>370.000000</td>\n",
       "      <td>0.000000</td>\n",
       "      <td>1900.000000</td>\n",
       "      <td>0.000000</td>\n",
       "      <td>98011.000000</td>\n",
       "      <td>47.610100</td>\n",
       "      <td>-122.416000</td>\n",
       "      <td>460.000000</td>\n",
       "      <td>659.000000</td>\n",
       "    </tr>\n",
       "    <tr>\n",
       "      <td>25%</td>\n",
       "      <td>2.325170e+09</td>\n",
       "      <td>4.150000e+05</td>\n",
       "      <td>3.000000</td>\n",
       "      <td>1.500000</td>\n",
       "      <td>1290.000000</td>\n",
       "      <td>3600.000000</td>\n",
       "      <td>1.000000</td>\n",
       "      <td>0.000000</td>\n",
       "      <td>0.000000</td>\n",
       "      <td>3.000000</td>\n",
       "      <td>7.000000</td>\n",
       "      <td>1080.000000</td>\n",
       "      <td>0.000000</td>\n",
       "      <td>1927.000000</td>\n",
       "      <td>0.000000</td>\n",
       "      <td>98107.000000</td>\n",
       "      <td>47.657800</td>\n",
       "      <td>-122.362000</td>\n",
       "      <td>1410.000000</td>\n",
       "      <td>3889.000000</td>\n",
       "    </tr>\n",
       "    <tr>\n",
       "      <td>50%</td>\n",
       "      <td>4.024100e+09</td>\n",
       "      <td>5.380000e+05</td>\n",
       "      <td>3.000000</td>\n",
       "      <td>2.000000</td>\n",
       "      <td>1680.000000</td>\n",
       "      <td>5100.000000</td>\n",
       "      <td>1.500000</td>\n",
       "      <td>0.000000</td>\n",
       "      <td>0.000000</td>\n",
       "      <td>3.000000</td>\n",
       "      <td>7.000000</td>\n",
       "      <td>1370.000000</td>\n",
       "      <td>170.000000</td>\n",
       "      <td>1950.000000</td>\n",
       "      <td>0.000000</td>\n",
       "      <td>98117.000000</td>\n",
       "      <td>47.684900</td>\n",
       "      <td>-122.332000</td>\n",
       "      <td>1630.000000</td>\n",
       "      <td>5100.000000</td>\n",
       "    </tr>\n",
       "    <tr>\n",
       "      <td>75%</td>\n",
       "      <td>6.844150e+09</td>\n",
       "      <td>7.150000e+05</td>\n",
       "      <td>4.000000</td>\n",
       "      <td>2.500000</td>\n",
       "      <td>2290.000000</td>\n",
       "      <td>7662.000000</td>\n",
       "      <td>2.000000</td>\n",
       "      <td>0.000000</td>\n",
       "      <td>0.000000</td>\n",
       "      <td>4.000000</td>\n",
       "      <td>8.000000</td>\n",
       "      <td>1770.000000</td>\n",
       "      <td>700.000000</td>\n",
       "      <td>1981.000000</td>\n",
       "      <td>0.000000</td>\n",
       "      <td>98133.000000</td>\n",
       "      <td>47.716500</td>\n",
       "      <td>-122.300000</td>\n",
       "      <td>1980.000000</td>\n",
       "      <td>7560.000000</td>\n",
       "    </tr>\n",
       "    <tr>\n",
       "      <td>max</td>\n",
       "      <td>9.839301e+09</td>\n",
       "      <td>7.700000e+06</td>\n",
       "      <td>33.000000</td>\n",
       "      <td>8.000000</td>\n",
       "      <td>12050.000000</td>\n",
       "      <td>117612.000000</td>\n",
       "      <td>3.500000</td>\n",
       "      <td>1.000000</td>\n",
       "      <td>4.000000</td>\n",
       "      <td>5.000000</td>\n",
       "      <td>13.000000</td>\n",
       "      <td>8860.000000</td>\n",
       "      <td>3480.000000</td>\n",
       "      <td>2015.000000</td>\n",
       "      <td>2015.000000</td>\n",
       "      <td>98199.000000</td>\n",
       "      <td>47.769900</td>\n",
       "      <td>-122.231000</td>\n",
       "      <td>4660.000000</td>\n",
       "      <td>128066.000000</td>\n",
       "    </tr>\n",
       "  </tbody>\n",
       "</table>\n",
       "</div>"
      ],
      "text/plain": [
       "                 id         price     bedrooms    bathrooms   sqft_living  \\\n",
       "count  5.135000e+03  5.135000e+03  5135.000000  5135.000000   5135.000000   \n",
       "mean   4.590032e+09  6.405516e+05     3.208569     1.979796   1887.397468   \n",
       "std    2.784225e+09  4.115038e+05     1.072337     0.809871    864.701717   \n",
       "min    9.000025e+06  1.250000e+05     0.000000     0.000000    370.000000   \n",
       "25%    2.325170e+09  4.150000e+05     3.000000     1.500000   1290.000000   \n",
       "50%    4.024100e+09  5.380000e+05     3.000000     2.000000   1680.000000   \n",
       "75%    6.844150e+09  7.150000e+05     4.000000     2.500000   2290.000000   \n",
       "max    9.839301e+09  7.700000e+06    33.000000     8.000000  12050.000000   \n",
       "\n",
       "            sqft_lot       floors   waterfront         view    condition  \\\n",
       "count    5135.000000  5135.000000  5135.000000  5135.000000  5135.000000   \n",
       "mean     6183.009932     1.542941     0.004869     0.255696     3.478870   \n",
       "std      5421.044155     0.639832     0.069612     0.792602     0.704133   \n",
       "min       520.000000     1.000000     0.000000     0.000000     1.000000   \n",
       "25%      3600.000000     1.000000     0.000000     0.000000     3.000000   \n",
       "50%      5100.000000     1.500000     0.000000     0.000000     3.000000   \n",
       "75%      7662.000000     2.000000     0.000000     0.000000     4.000000   \n",
       "max    117612.000000     3.500000     1.000000     4.000000     5.000000   \n",
       "\n",
       "             grade   sqft_above  sqft_basement     yr_built  yr_renovated  \\\n",
       "count  5135.000000  5135.000000    5135.000000  5135.000000   5135.000000   \n",
       "mean      7.562610  1526.492892     360.904576  1954.739435    126.754430   \n",
       "std       1.031414   677.683152     438.907497    33.060690    486.897028   \n",
       "min       5.000000   370.000000       0.000000  1900.000000      0.000000   \n",
       "25%       7.000000  1080.000000       0.000000  1927.000000      0.000000   \n",
       "50%       7.000000  1370.000000     170.000000  1950.000000      0.000000   \n",
       "75%       8.000000  1770.000000     700.000000  1981.000000      0.000000   \n",
       "max      13.000000  8860.000000    3480.000000  2015.000000   2015.000000   \n",
       "\n",
       "            zipcode          lat         long  sqft_living15     sqft_lot15  \n",
       "count   5135.000000  5135.000000  5135.000000    5135.000000    5135.000000  \n",
       "mean   98119.952288    47.687703  -122.330386    1763.895424    5963.176826  \n",
       "std       34.790243     0.040191     0.042268     542.426047    4487.626811  \n",
       "min    98011.000000    47.610100  -122.416000     460.000000     659.000000  \n",
       "25%    98107.000000    47.657800  -122.362000    1410.000000    3889.000000  \n",
       "50%    98117.000000    47.684900  -122.332000    1630.000000    5100.000000  \n",
       "75%    98133.000000    47.716500  -122.300000    1980.000000    7560.000000  \n",
       "max    98199.000000    47.769900  -122.231000    4660.000000  128066.000000  "
      ]
     },
     "execution_count": 66,
     "metadata": {},
     "output_type": "execute_result"
    }
   ],
   "source": [
    "df2.describe()"
   ]
  },
  {
   "cell_type": "code",
   "execution_count": null,
   "metadata": {},
   "outputs": [],
   "source": []
  },
  {
   "cell_type": "code",
   "execution_count": 62,
   "metadata": {},
   "outputs": [
    {
     "data": {
      "text/plain": [
       "(0, 2000000)"
      ]
     },
     "execution_count": 62,
     "metadata": {},
     "output_type": "execute_result"
    },
    {
     "data": {
      "image/png": "[encoded data removed]",
      "text/plain": [
       "<Figure size 432x288 with 1 Axes>"
      ]
     },
     "metadata": {
      "needs_background": "light"
     },
     "output_type": "display_data"
    }
   ],
   "source": [
    "bins = np.arange(0, 2500000, 2500000*100/df.shape[0]  )\n",
    "plt.hist(df.price, bins=bins);\n",
    "plt.xlim(0, 2000000)"
   ]
  },
  {
   "cell_type": "markdown",
   "metadata": {},
   "source": [
    "As expected, the mean price of the most popular region is bigger than the mean price of all the county"
   ]
  },
  {
   "cell_type": "code",
   "execution_count": 82,
   "metadata": {},
   "outputs": [
    {
     "data": {
      "image/png": "[encoded data removed]",
      "text/plain": [
       "<Figure size 432x288 with 2 Axes>"
      ]
     },
     "metadata": {
      "needs_background": "light"
     },
     "output_type": "display_data"
    }
   ],
   "source": [
    "plt.scatter(df.long,df.lat,c=df.price,cmap='plasma')\n",
    "plt.colorbar();\n",
    "plt.xlim(df.long.min(), df.long.max());\n",
    "plt.xlabel('Longitude')\n",
    "plt.ylabel('Latitude')\n",
    "plt.ylim(df.lat.min(), df.lat.max());\n",
    "plt.savefig('heatmap')"
   ]
  },
  {
   "cell_type": "code",
   "execution_count": 29,
   "metadata": {},
   "outputs": [
    {
     "data": {
      "image/png": "[encoded data removed]",
      "text/plain": [
       "<Figure size 432x288 with 2 Axes>"
      ]
     },
     "metadata": {
      "needs_background": "light"
     },
     "output_type": "display_data"
    }
   ],
   "source": [
    "import matplotlib.pyplot as plt\n",
    "import numpy as np\n",
    "import math\n",
    "\n",
    "#POINT DATASET\n",
    "x= df.long\n",
    "y=df.lat\n",
    "\n",
    "#DEFINE GRID SIZE AND RADIUS(h)\n",
    "grid_size=1\n",
    "h=10\n",
    "\n",
    "#GETTING X,Y MIN AND MAX\n",
    "x_min=min(x)\n",
    "x_max=max(x)\n",
    "y_min=min(y)\n",
    "y_max=max(y)\n",
    "\n",
    "#CONSTRUCT GRID\n",
    "x_grid=np.arange(x_min-h,x_max+h,grid_size)\n",
    "y_grid=np.arange(y_min-h,y_max+h,grid_size)\n",
    "x_mesh,y_mesh=np.meshgrid(x_grid,y_grid)\n",
    "\n",
    "#GRID CENTER POINT\n",
    "xc=x_mesh+(grid_size/2)\n",
    "yc=y_mesh+(grid_size/2)\n",
    "\n",
    "#FUNCTION TO CALCULATE INTENSITY WITH QUARTIC KERNEL\n",
    "def kde_quartic(d,h):\n",
    "    dn=d/h\n",
    "    P=(15/16)*(1-dn**2)**2\n",
    "    return P\n",
    "\n",
    "#PROCESSING\n",
    "intensity_list=[]\n",
    "for j in range(len(xc)):\n",
    "    intensity_row=[]\n",
    "    for k in range(len(xc[0])):\n",
    "        kde_value_list=[]\n",
    "        for i in range(len(x)):\n",
    "            #CALCULATE DISTANCE\n",
    "            d=math.sqrt((xc[j][k]-x[i])**2+(yc[j][k]-y[i])**2) \n",
    "            if d<=h:\n",
    "                p=kde_quartic(d,h)\n",
    "            else:\n",
    "                p=0\n",
    "            kde_value_list.append(p)\n",
    "        #SUM ALL INTENSITY VALUE\n",
    "        p_total=sum(kde_value_list)\n",
    "        intensity_row.append(p_total)\n",
    "    intensity_list.append(intensity_row)\n",
    "\n",
    "#HEATMAP OUTPUT    \n",
    "intensity=np.array(intensity_list)\n",
    "plt.pcolormesh(x_mesh,y_mesh,intensity)\n",
    "plt.plot(x,y,'ro')\n",
    "plt.colorbar()\n",
    "plt.show()"
   ]
  },
  {
   "cell_type": "code",
   "execution_count": 30,
   "metadata": {},
   "outputs": [
    {
     "data": {
      "text/plain": [
       "3"
      ]
     },
     "execution_count": 30,
     "metadata": {},
     "output_type": "execute_result"
    }
   ],
   "source": [
    "3"
   ]
  },
  {
   "cell_type": "code",
   "execution_count": null,
   "metadata": {},
   "outputs": [],
   "source": []
  }
 ],
 "metadata": {
  "kernelspec": {
   "display_name": "Python 3",
   "language": "python",
   "name": "python3"
  },
  "language_info": {
   "codemirror_mode": {
    "name": "ipython",
    "version": 3
   },
   "file_extension": ".py",
   "mimetype": "text/x-python",
   "name": "python",
   "nbconvert_exporter": "python",
   "pygments_lexer": "ipython3",
   "version": "3.7.4"
  }
 },
 "nbformat": 4,
 "nbformat_minor": 2
}
